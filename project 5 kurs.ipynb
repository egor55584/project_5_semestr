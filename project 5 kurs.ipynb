{
 "cells": [
  {
   "cell_type": "code",
   "execution_count": 4,
   "id": "adcc7611-75a1-4db4-8511-b25d7167556a",
   "metadata": {},
   "outputs": [],
   "source": [
    "import pandas as pd\n",
    "import numpy as np\n",
    "import matplotlib.pyplot as plt\n",
    "import tarfile\n",
    "import os\n",
    "from sklearn.model_selection import train_test_split\n",
    "from sklearn.feature_extraction.text import TfidfVectorizer\n",
    "from sklearn.svm import SVC\n",
    "from vaderSentiment.vaderSentiment import SentimentIntensityAnalyzer\n",
    "from sklearn.metrics import classification_report\n",
    "import seaborn as sns\n",
    "import re\n",
    "from bs4 import BeautifulSoup\n",
    "from sklearn.feature_extraction.text import ENGLISH_STOP_WORDS\n",
    "import nltk\n",
    "from nltk.corpus import stopwords\n",
    "from nltk.tokenize import word_tokenize\n",
    "from nltk.stem import WordNetLemmatizer\n",
    "from scipy.sparse import csr_matrix\n",
    "from catboost import CatBoostClassifier\n",
    "from sklearn.metrics import accuracy_score, f1_score\n",
    "from textblob import TextBlob\n",
    "from transformers import BertTokenizer, BertForSequenceClassification\n",
    "from transformers import Trainer, TrainingArguments\n",
    "import torch\n",
    "from torch.utils.data import Dataset, DataLoader\n",
    "import gensim\n",
    "from gensim.models import Word2Vec\n",
    "from sklearn.metrics import mean_absolute_error\n",
    "from catboost import CatBoostRegressor"
   ]
  },
  {
   "cell_type": "markdown",
   "id": "a9e1f011-357f-4c3b-8d79-3b368a2b2009",
   "metadata": {},
   "source": [
    "### Загрузка и анализ данных, первичная предобработка"
   ]
  },
  {
   "cell_type": "code",
   "execution_count": 10,
   "id": "929ef81e-a5ad-4abb-8a10-f3c29942d8af",
   "metadata": {},
   "outputs": [
    {
     "name": "stdout",
     "output_type": "stream",
     "text": [
      "                                                text  target\n",
      "0  I went and saw this movie last night after bei...      10\n",
      "1  Actor turned director Bill Paxton follows up h...       7\n",
      "2  As a recreational golfer with some knowledge o...       9\n",
      "3  I saw this film in a sneak preview, and it is ...       8\n",
      "4  Bill Paxton has taken the true story of the 19...       8\n"
     ]
    }
   ],
   "source": [
    "# Папки с данными\n",
    "part_1_dir = 'part_1'\n",
    "part_2_dir = 'part_2'\n",
    "\n",
    "# Списки для хранения текстов и рейтингов\n",
    "texts = []\n",
    "ratings = []\n",
    "\n",
    "def load_reviews_from_folder(folder):\n",
    "    if os.path.exists(folder):  \n",
    "        for filename in os.listdir(folder):\n",
    "            if filename.endswith('.txt'): \n",
    "                file_path = os.path.join(folder, filename)  \n",
    "                # Извлечение рейтинга из имени файла\n",
    "                try:\n",
    "                    rating = int(filename.split('_')[-1].split('.')[0])  # Берем часть после '_' и до '.txt'\n",
    "                except ValueError:\n",
    "                    print(f\"Некорректное имя файла: {filename}\")\n",
    "                    continue\n",
    "                \n",
    "                # Чтение содержимого файла\n",
    "                with open(file_path, 'r', encoding='utf-8') as file:\n",
    "                    texts.append(file.read())\n",
    "                    ratings.append(rating)\n",
    "    else:\n",
    "        print(f\"Папка не найдена: {folder}\")\n",
    "\n",
    "# Загрузка данных из папок\n",
    "load_reviews_from_folder(part_1_dir + '/pos')\n",
    "load_reviews_from_folder(part_1_dir + '/neg')\n",
    "\n",
    "load_reviews_from_folder(part_2_dir + '/pos')\n",
    "load_reviews_from_folder(part_2_dir + '/neg')\n",
    "\n",
    "# Создание DataFrame\n",
    "df = pd.DataFrame({\n",
    "    'text': texts,\n",
    "    'target': ratings\n",
    "})\n",
    "\n",
    "print(df.head())"
   ]
  },
  {
   "cell_type": "code",
   "execution_count": 12,
   "id": "803c3c81-87e3-4705-bd04-7a55d6173e03",
   "metadata": {},
   "outputs": [],
   "source": [
    "#df.to_csv('Review_data_new.csv')"
   ]
  },
  {
   "cell_type": "code",
   "execution_count": 5,
   "id": "60012548-58aa-4bff-9a2a-2dc00338feaa",
   "metadata": {},
   "outputs": [],
   "source": [
    "df = pd.read_csv('Review_data_new.csv')[['text','target']]"
   ]
  },
  {
   "cell_type": "code",
   "execution_count": null,
   "id": "897f6a55-f911-44c4-9d28-28f1555cfc17",
   "metadata": {},
   "outputs": [],
   "source": []
  },
  {
   "cell_type": "code",
   "execution_count": 24,
   "id": "a051d839-5990-4b66-9461-06569d3c4c35",
   "metadata": {},
   "outputs": [
    {
     "name": "stdout",
     "output_type": "stream",
     "text": [
      "Пропущенные значения:\n",
      "text      0\n",
      "target    0\n",
      "dtype: int64\n",
      "Количество дублирующихся строк: 414\n"
     ]
    }
   ],
   "source": [
    "print(f\"Пропущенные значения:\\n{df.isnull().sum()}\")\n",
    "\n",
    "duplicates = df.duplicated().sum()\n",
    "print(f\"Количество дублирующихся строк: {duplicates}\")"
   ]
  },
  {
   "cell_type": "code",
   "execution_count": 26,
   "id": "cb8137dd-a603-481e-a74d-302c853f5392",
   "metadata": {},
   "outputs": [
    {
     "name": "stdout",
     "output_type": "stream",
     "text": [
      "Количество строк после удаления дубликатов: 49586\n"
     ]
    }
   ],
   "source": [
    "df = df.drop_duplicates()\n",
    "\n",
    "print(f\"Количество строк после удаления дубликатов: {len(df)}\")"
   ]
  },
  {
   "cell_type": "code",
   "execution_count": 8,
   "id": "adee7df9-f7de-4399-92c4-95a552ebdbff",
   "metadata": {},
   "outputs": [
    {
     "data": {
      "text/plain": [
       "target\n",
       "1     10122\n",
       "10     9731\n",
       "8      5859\n",
       "4      5331\n",
       "3      4961\n",
       "7      4803\n",
       "9      4607\n",
       "2      4586\n",
       "Name: count, dtype: int64"
      ]
     },
     "execution_count": 8,
     "metadata": {},
     "output_type": "execute_result"
    }
   ],
   "source": [
    "df['target'].value_counts()"
   ]
  },
  {
   "cell_type": "code",
   "execution_count": 108,
   "id": "b7e42ec9-51ca-4910-aea0-0f919522d84b",
   "metadata": {},
   "outputs": [
    {
     "data": {
      "image/png": "[encoded data removed]",
      "text/plain": [
       "<Figure size 640x480 with 1 Axes>"
      ]
     },
     "metadata": {},
     "output_type": "display_data"
    }
   ],
   "source": [
    "df['target'].value_counts().sort_index().plot(kind='bar', title='Распределение значений target')\n",
    "plt.xlabel('Target')\n",
    "plt.ylabel('Количество')\n",
    "plt.show()"
   ]
  },
  {
   "cell_type": "code",
   "execution_count": 30,
   "id": "7cf7b529-e6a4-4268-a785-0a8f47e17ee0",
   "metadata": {},
   "outputs": [
    {
     "name": "stdout",
     "output_type": "stream",
     "text": [
      "count    49586.000000\n",
      "mean       231.349837\n",
      "std        171.537241\n",
      "min          4.000000\n",
      "25%        126.000000\n",
      "50%        173.000000\n",
      "75%        281.000000\n",
      "max       2470.000000\n",
      "Name: word_count, dtype: float64\n"
     ]
    }
   ],
   "source": [
    "df['word_count'] = df['text'].apply(lambda x: len(str(x).split()))\n",
    "\n",
    "print(df['word_count'].describe())"
   ]
  },
  {
   "cell_type": "code",
   "execution_count": 31,
   "id": "6aeb954b-2b8f-4fa4-9072-4ee7945abfeb",
   "metadata": {},
   "outputs": [
    {
     "data": {
      "image/png": "[encoded data removed]",
      "text/plain": [
       "<Figure size 640x480 with 1 Axes>"
      ]
     },
     "metadata": {},
     "output_type": "display_data"
    }
   ],
   "source": [
    "sns.histplot(df['text'].apply(lambda x: len(str(x).split())), kde=True, color='blue')\n",
    "plt.title('Распределение количества слов в тексте')\n",
    "plt.xlabel('Количество слов')\n",
    "plt.ylabel('Количество отзывов')\n",
    "plt.show()"
   ]
  },
  {
   "cell_type": "code",
   "execution_count": 34,
   "id": "8a505f64-09cf-4acf-8121-5015e840c733",
   "metadata": {},
   "outputs": [
    {
     "name": "stdout",
     "output_type": "stream",
     "text": [
      "99%-ный перцентиль: 908.0\n"
     ]
    }
   ],
   "source": [
    "percentile_99 = df['word_count'].quantile(0.99)\n",
    "print(f\"99%-ный перцентиль: {percentile_99}\")"
   ]
  },
  {
   "cell_type": "code",
   "execution_count": 36,
   "id": "cfe23a2d-04ce-4bd1-97a5-e98a94ec4a28",
   "metadata": {},
   "outputs": [
    {
     "name": "stdout",
     "output_type": "stream",
     "text": [
      "Количество строк после обрезки: 49094\n"
     ]
    }
   ],
   "source": [
    "df = df[df['word_count'] <= percentile_99]\n",
    "\n",
    "print(f\"Количество строк после обрезки: {len(df)}\")"
   ]
  },
  {
   "cell_type": "markdown",
   "id": "b19d2472-c347-42e0-83ed-6d87f68fc1cd",
   "metadata": {},
   "source": [
    "### Пробуем разные сентиментальные готовые словари"
   ]
  },
  {
   "cell_type": "code",
   "execution_count": 45,
   "id": "9e3240f8-40d2-42ce-989e-e03c2a1c7765",
   "metadata": {},
   "outputs": [],
   "source": [
    "df_dict = df.copy()"
   ]
  },
  {
   "cell_type": "code",
   "execution_count": 47,
   "id": "a740bbd3-af08-4792-807c-26211d60e241",
   "metadata": {},
   "outputs": [
    {
     "name": "stdout",
     "output_type": "stream",
     "text": [
      "Размер обучающей выборки: 39275\n",
      "Размер тестовой выборки: 9819\n"
     ]
    }
   ],
   "source": [
    "X_train_dict, X_test_dict, y_train_dict, y_test_dict = train_test_split(df_dict['text'], df_dict['target'], test_size=0.2, random_state=42, stratify=df_dict['target'])\n",
    "print(f\"Размер обучающей выборки: {len(X_train_dict)}\")\n",
    "print(f\"Размер тестовой выборки: {len(X_test_dict)}\")"
   ]
  },
  {
   "cell_type": "code",
   "execution_count": 53,
   "id": "6107c46a-ee24-480a-871b-aaeac833c702",
   "metadata": {},
   "outputs": [],
   "source": [
    "# Список допустимых рейтингов\n",
    "valid_ratings = [1, 2, 3, 4, 7, 8, 9, 10]\n",
    "\n",
    "# Функция для ограничения значений допустимыми рейтингами\n",
    "def map_to_valid_rating(rating):\n",
    "    return min(valid_ratings, key=lambda x: abs(x - rating))\n",
    "\n",
    "# Функция для преобразования compound score в рейтинг\n",
    "def predict_rating(text):\n",
    "    scores = analyzer.polarity_scores(text)\n",
    "    compound = scores['compound']\n",
    "    \n",
    "    # Масштабирование compound score (-1...1) в диапазон рейтингов (1–10)\n",
    "    rating = (compound + 1) * 4.5 + 1 \n",
    "    \n",
    "    # Ограничение значений только допустимыми рейтингами\n",
    "    return map_to_valid_rating(rating)\n",
    "\n",
    "def get_sentiment(text):\n",
    "    blob = TextBlob(text)\n",
    "    polarity = blob.sentiment.polarity\n",
    "    \n",
    "    # Масштабирование polarity (-1...1) в диапазон рейтингов (1–10)\n",
    "    rating = (polarity + 1) * 4.5 + 1  \n",
    "    \n",
    "    # Ограничение значений только допустимыми рейтингами\n",
    "    return map_to_valid_rating(rating)\n",
    "\n",
    "# Функция для анализа полярности (позитивный/негативный)\n",
    "def analyze_polarity(true_ratings, predicted_ratings):\n",
    "    # Разделяем рейтинги на позитивные (7–10) и негативные (1–4)\n",
    "    def map_to_polarity(rating):\n",
    "        return \"positive\" if rating >= 7 else \"negative\"\n",
    "    \n",
    "    true_polarities = [map_to_polarity(rating) for rating in true_ratings]\n",
    "    predicted_polarities = [map_to_polarity(rating) for rating in predicted_ratings]\n",
    "    \n",
    "    # Общая точность по полярности\n",
    "    polarity_accuracy = accuracy_score(true_polarities, predicted_polarities)\n",
    "    \n",
    "    # Точность для каждой полярности\n",
    "    positive_accuracy = accuracy_score(\n",
    "        [true for true, pred in zip(true_polarities, predicted_polarities) if true == \"positive\"],\n",
    "        [pred for true, pred in zip(true_polarities, predicted_polarities) if true == \"positive\"]\n",
    "    )\n",
    "    negative_accuracy = accuracy_score(\n",
    "        [true for true, pred in zip(true_polarities, predicted_polarities) if true == \"negative\"],\n",
    "        [pred for true, pred in zip(true_polarities, predicted_polarities) if true == \"negative\"]\n",
    "    )\n",
    "    \n",
    "    print(f\"\\nТочность по полярности: {polarity_accuracy:.4f}\")\n",
    "    print(f\"Точность для позитивных отзывов: {positive_accuracy:.4f}\")\n",
    "    print(f\"Точность для негативных отзывов: {negative_accuracy:.4f}\")"
   ]
  },
  {
   "cell_type": "markdown",
   "id": "deae0203-6e20-4fc8-b51a-22102d202085",
   "metadata": {},
   "source": [
    "### SentimentIntensityAnalyzer"
   ]
  },
  {
   "cell_type": "code",
   "execution_count": 51,
   "id": "d1ef5f9c-c3db-429a-b233-aacd635c6f82",
   "metadata": {},
   "outputs": [
    {
     "name": "stdout",
     "output_type": "stream",
     "text": [
      "\n",
      "Результаты на обучающей выборке:\n",
      "MAE: 2.7972\n",
      "\n",
      "Результаты на тестовой выборке:\n",
      "MAE: 2.7894\n",
      "\n",
      "Анализ полярности train:\n",
      "\n",
      "Точность по полярности: 0.6959\n",
      "Точность для позитивных отзывов: 0.8609\n",
      "Точность для негативных отзывов: 0.5301\n",
      "\n",
      "Анализ полярности test:\n",
      "\n",
      "Точность по полярности: 0.6990\n",
      "Точность для позитивных отзывов: 0.8647\n",
      "Точность для негативных отзывов: 0.5324\n"
     ]
    }
   ],
   "source": [
    "# Инициализация анализатора\n",
    "analyzer = SentimentIntensityAnalyzer()\n",
    "\n",
    "# Применение функции к данным\n",
    "y_train_pred = X_train_dict.apply(predict_rating)\n",
    "y_test_pred = X_test_dict.apply(predict_rating)\n",
    "\n",
    "# Оценка качества модели\n",
    "train_mae = mean_absolute_error(y_train_dict, y_train_pred)\n",
    "test_mae = mean_absolute_error(y_test_dict, y_test_pred)\n",
    "\n",
    "print(\"\\nРезультаты на обучающей выборке:\")\n",
    "print(f\"MAE: {train_mae:.4f}\")\n",
    "\n",
    "print(\"\\nРезультаты на тестовой выборке:\")\n",
    "print(f\"MAE: {test_mae:.4f}\")\n",
    "\n",
    "# Анализ полярности\n",
    "print(\"\\nАнализ полярности train:\")\n",
    "analyze_polarity(y_train_dict, y_train_pred)\n",
    "print(\"\\nАнализ полярности test:\")\n",
    "analyze_polarity(y_test_dict, y_test_pred)"
   ]
  },
  {
   "cell_type": "markdown",
   "id": "b2613500-8cf2-419c-a075-6e73d3e105ca",
   "metadata": {},
   "source": [
    "### TextBlob"
   ]
  },
  {
   "cell_type": "code",
   "execution_count": 57,
   "id": "fff3d27f-81f8-40e2-8993-0b2683eb9aba",
   "metadata": {},
   "outputs": [
    {
     "name": "stdout",
     "output_type": "stream",
     "text": [
      "\n",
      "Результаты на обучающей выборке:\n",
      "MAE: 2.6865\n",
      "\n",
      "Результаты на тестовой выборке:\n",
      "MAE: 2.6746\n",
      "\n",
      "Анализ полярности:\n",
      "\n",
      "Точность по полярности: 0.6891\n",
      "Точность для позитивных отзывов: 0.9470\n",
      "Точность для негативных отзывов: 0.4299\n",
      "\n",
      "Точность по полярности: 0.6932\n",
      "Точность для позитивных отзывов: 0.9449\n",
      "Точность для негативных отзывов: 0.4403\n"
     ]
    }
   ],
   "source": [
    "# Применяем функцию к обучающим и тестовым данным\n",
    "y_train_pred = [get_sentiment(text) for text in X_train_dict]\n",
    "y_test_pred = [get_sentiment(text) for text in X_test_dict]\n",
    "\n",
    "# Оценка качества модели (MAE и Accuracy)\n",
    "train_mae = mean_absolute_error(y_train_dict, y_train_pred)\n",
    "test_mae = mean_absolute_error(y_test_dict, y_test_pred)\n",
    "\n",
    "print(\"\\nРезультаты на обучающей выборке:\")\n",
    "print(f\"MAE: {train_mae:.4f}\")\n",
    "\n",
    "print(\"\\nРезультаты на тестовой выборке:\")\n",
    "print(f\"MAE: {test_mae:.4f}\")\n",
    "\n",
    "# Анализ полярности\n",
    "print(\"\\nАнализ полярности:\")\n",
    "analyze_polarity(y_train_dict, y_train_pred)\n",
    "analyze_polarity(y_test_dict, y_test_pred)"
   ]
  },
  {
   "cell_type": "markdown",
   "id": "b94b5855-6431-431f-a25d-777a9b15bd8b",
   "metadata": {},
   "source": [
    "### Подготовка данных и обучение модели машинного обучения"
   ]
  },
  {
   "cell_type": "code",
   "execution_count": 59,
   "id": "8b5f8091-968b-4618-8891-de3783678cca",
   "metadata": {},
   "outputs": [],
   "source": [
    "df_machine = df.copy()"
   ]
  },
  {
   "cell_type": "code",
   "execution_count": 61,
   "id": "a5926883-dd9b-4170-be86-97ade69a158c",
   "metadata": {},
   "outputs": [],
   "source": [
    "# Убираем все неалфавитные символы \n",
    "df_machine['text'] = df_machine['text'].apply(lambda x: re.sub(r'[^a-zA-Z\\s]', '', x))"
   ]
  },
  {
   "cell_type": "code",
   "execution_count": 62,
   "id": "7b183444-513d-41cf-8a37-a054a1b01aed",
   "metadata": {},
   "outputs": [],
   "source": [
    "# Лишние пробелы\n",
    "df_machine['cleaned_text'] = df_machine['text'].apply(lambda x: re.sub(r'\\s+', ' ', x).strip())"
   ]
  },
  {
   "cell_type": "code",
   "execution_count": 65,
   "id": "ea86e9b6-aaf2-4619-ad67-aaa8f7065fed",
   "metadata": {},
   "outputs": [],
   "source": [
    "# Лемматизация\n",
    "\n",
    "# Загрузка списка стоп-слов\n",
    "stop_words = set(stopwords.words('english'))\n",
    "\n",
    "# Инициализация лемматизатора\n",
    "lemmatizer = WordNetLemmatizer()\n",
    "\n",
    "# Функция для предобработки текста \n",
    "def preprocess_text(text):\n",
    "    # Токенизация\n",
    "    words = word_tokenize(text.lower())  # Приведение к нижнему регистру\n",
    "    # Лемматизация и удаление стоп-слов\n",
    "    words = [lemmatizer.lemmatize(word) for word in words if word.isalnum() and word not in stop_words]\n",
    "    return ' '.join(words)\n",
    "\n",
    "# Применим функцию к столбцу текста\n",
    "df_machine['cleaned_text'] = df_machine['text'].apply(preprocess_text)"
   ]
  },
  {
   "cell_type": "code",
   "execution_count": 66,
   "id": "7b563b7f-17d6-457e-b06b-f95b70cfa823",
   "metadata": {},
   "outputs": [
    {
     "data": {
      "text/plain": [
       "0    went saw movie last night coaxed friend mine i...\n",
       "1    actor turned director bill paxton follows prom...\n",
       "2    recreational golfer knowledge sport history pl...\n",
       "3    saw film sneak preview delightful cinematograp...\n",
       "4    bill paxton taken true story u golf open made ...\n",
       "Name: cleaned_text, dtype: object"
      ]
     },
     "execution_count": 66,
     "metadata": {},
     "output_type": "execute_result"
    }
   ],
   "source": [
    "df_machine['cleaned_text'].head()"
   ]
  },
  {
   "cell_type": "code",
   "execution_count": 67,
   "id": "8101cf0b-db84-47ed-a95a-f7459cd97b7c",
   "metadata": {},
   "outputs": [
    {
     "name": "stdout",
     "output_type": "stream",
     "text": [
      "Размер обучающей выборки: 39275\n",
      "Размер тестовой выборки: 9819\n"
     ]
    }
   ],
   "source": [
    "X_train, X_test, y_train, y_test = train_test_split(df_machine['cleaned_text'], df_machine['target'], test_size=0.2, random_state=42, stratify=df_machine['target'])\n",
    "print(f\"Размер обучающей выборки: {len(X_train)}\")\n",
    "print(f\"Размер тестовой выборки: {len(X_test)}\")"
   ]
  },
  {
   "cell_type": "markdown",
   "id": "8e0baade-9450-4868-a7f5-779d990c9e02",
   "metadata": {},
   "source": [
    "### TFIDF и Catboost"
   ]
  },
  {
   "cell_type": "code",
   "execution_count": 68,
   "id": "46148019-37e8-4722-9dca-00499a999b44",
   "metadata": {},
   "outputs": [
    {
     "name": "stdout",
     "output_type": "stream",
     "text": [
      "Размер матрицы: (39275, 32255)\n"
     ]
    }
   ],
   "source": [
    "vectorizer = TfidfVectorizer(min_df=5, max_df=0.9)\n",
    "\n",
    "X_train_tfidf = vectorizer.fit_transform(X_train)\n",
    "X_test_tfidf = vectorizer.transform(X_test)\n",
    "\n",
    "print(f\"Размер матрицы: {X_train_tfidf.shape}\")"
   ]
  },
  {
   "cell_type": "code",
   "execution_count": 76,
   "id": "c271c668-ab6a-47d4-923a-554104fe4d8f",
   "metadata": {},
   "outputs": [
    {
     "name": "stdout",
     "output_type": "stream",
     "text": [
      "Размер матрицы: (39275, 32255)\n",
      "0:\tlearn: 3.4419628\ttotal: 206ms\tremaining: 2m 44s\n",
      "200:\tlearn: 2.5481927\ttotal: 28.6s\tremaining: 1m 25s\n",
      "400:\tlearn: 2.3908837\ttotal: 56.7s\tremaining: 56.4s\n",
      "600:\tlearn: 2.3016078\ttotal: 1m 24s\tremaining: 27.9s\n",
      "799:\tlearn: 2.2378032\ttotal: 1m 52s\tremaining: 0us\n",
      "\n",
      "Результаты на обучающей выборке:\n",
      "MAE: 1.6970\n",
      "\n",
      "Результаты на тестовой выборке:\n",
      "MAE: 1.7694\n",
      "\n",
      "Анализ полярности:\n",
      "\n",
      "Точность по полярности: 0.8610\n",
      "Точность для позитивных отзывов: 0.9038\n",
      "Точность для негативных отзывов: 0.8180\n",
      "\n",
      "Точность по полярности: 0.8495\n",
      "Точность для позитивных отзывов: 0.8970\n",
      "Точность для негативных отзывов: 0.8017\n"
     ]
    }
   ],
   "source": [
    "# Векторизация текста с помощью TF-IDF\n",
    "vectorizer = TfidfVectorizer(min_df=5, max_df=0.9)\n",
    "X_train_tfidf = vectorizer.fit_transform(X_train)\n",
    "X_test_tfidf = vectorizer.transform(X_test)\n",
    "\n",
    "print(f\"Размер матрицы: {X_train_tfidf.shape}\")\n",
    "\n",
    "# Обучение модели CatBoostRegressor\n",
    "model = CatBoostRegressor(iterations=800, \n",
    "                          learning_rate=0.05, \n",
    "                          depth=4, \n",
    "                          verbose=200)\n",
    "\n",
    "model.fit(X_train_tfidf, y_train)\n",
    "\n",
    "# Предсказания на тестовой выборке\n",
    "y_test_pred_raw = model.predict(X_test_tfidf)\n",
    "\n",
    "# Ограничение предсказаний допустимыми рейтингами\n",
    "y_test_pred = [map_to_valid_rating(pred) for pred in y_test_pred_raw]\n",
    "\n",
    "# Предсказания на обучающей выборке\n",
    "y_train_pred_raw = model.predict(X_train_tfidf)\n",
    "y_train_pred = [map_to_valid_rating(pred) for pred in y_train_pred_raw]\n",
    "\n",
    "# Оценка качества модели (MAE и Accuracy)\n",
    "test_mae = mean_absolute_error(y_test, y_test_pred)\n",
    "train_mae = mean_absolute_error(y_train, y_train_pred)\n",
    "\n",
    "\n",
    "print(\"\\nРезультаты на обучающей выборке:\")\n",
    "print(f\"MAE: {train_mae:.4f}\")\n",
    "\n",
    "print(\"\\nРезультаты на тестовой выборке:\")\n",
    "print(f\"MAE: {test_mae:.4f}\")\n",
    "\n",
    "# Анализ полярности\n",
    "print(\"\\nАнализ полярности:\")\n",
    "analyze_polarity(y_train, y_train_pred)\n",
    "analyze_polarity(y_test, y_test_pred)"
   ]
  },
  {
   "cell_type": "markdown",
   "id": "36f6622d-bc53-443b-b968-0a127ef5f89c",
   "metadata": {},
   "source": [
    "### Word2Vec и Catboost"
   ]
  },
  {
   "cell_type": "code",
   "execution_count": 116,
   "id": "02b1ed35-405b-4d6d-951d-075a91a44cff",
   "metadata": {},
   "outputs": [
    {
     "name": "stdout",
     "output_type": "stream",
     "text": [
      "(39275, 200)\n",
      "(9819, 200)\n"
     ]
    }
   ],
   "source": [
    "X_train_tokens = [text.split() for text in X_train] \n",
    "\n",
    "model_w2v = Word2Vec(sentences=X_train_tokens, vector_size=200, window=10, min_count=5, workers=4)\n",
    "\n",
    "def vectorize_text(text, model, vector_size=100):\n",
    "    words = text.split()\n",
    "    word_vectors = []\n",
    "    for word in words:\n",
    "        if word in model.wv:\n",
    "            word_vectors.append(model.wv[word])\n",
    "    \n",
    "    if word_vectors:\n",
    "        return np.mean(word_vectors, axis=0)\n",
    "    else:\n",
    "        return np.zeros(vector_size) \n",
    "\n",
    "X_train_w2v = np.array([vectorize_text(text, model_w2v) for text in X_train])\n",
    "\n",
    "X_test_w2v = np.array([vectorize_text(text, model_w2v) for text in X_test])\n",
    "\n",
    "print(X_train_w2v.shape)\n",
    "print(X_test_w2v.shape)"
   ]
  },
  {
   "cell_type": "code",
   "execution_count": 117,
   "id": "41f091bb-3be3-46f5-85bd-e150af6ae99b",
   "metadata": {},
   "outputs": [
    {
     "name": "stdout",
     "output_type": "stream",
     "text": [
      "0:\tlearn: 3.4084094\ttotal: 8.77ms\tremaining: 7.01s\n",
      "200:\tlearn: 2.2559609\ttotal: 1.47s\tremaining: 4.39s\n",
      "400:\tlearn: 2.1709896\ttotal: 2.85s\tremaining: 2.83s\n",
      "600:\tlearn: 2.1162817\ttotal: 4.29s\tremaining: 1.42s\n",
      "799:\tlearn: 2.0725841\ttotal: 5.69s\tremaining: 0us\n",
      "\n",
      "Результаты на обучающей выборке:\n",
      "MAE: 1.5117\n",
      "\n",
      "Результаты на тестовой выборке:\n",
      "MAE: 1.6062\n",
      "\n",
      "Анализ полярности:\n",
      "\n",
      "Точность по полярности: 0.8692\n",
      "Точность для позитивных отзывов: 0.8824\n",
      "Точность для негативных отзывов: 0.8560\n",
      "\n",
      "Точность по полярности: 0.8568\n",
      "Точность для позитивных отзывов: 0.8651\n",
      "Точность для негативных отзывов: 0.8485\n"
     ]
    }
   ],
   "source": [
    "# Обучение модели CatBoostRegressor\n",
    "model = CatBoostRegressor(iterations=800, \n",
    "                          learning_rate=0.05, \n",
    "                          depth=4, \n",
    "                          verbose=200)\n",
    "\n",
    "model.fit(X_train_w2v, y_train)\n",
    "\n",
    "# Предсказания на тестовой выборке\n",
    "y_test_pred_raw = model.predict(X_test_w2v)\n",
    "\n",
    "# Ограничение предсказаний допустимыми рейтингами\n",
    "y_test_pred = [map_to_valid_rating(pred) for pred in y_test_pred_raw]\n",
    "\n",
    "# Предсказания на обучающей выборке\n",
    "y_train_pred_raw = model.predict(X_train_w2v)\n",
    "y_train_pred = [map_to_valid_rating(pred) for pred in y_train_pred_raw]\n",
    "\n",
    "# Оценка качества модели (MAE и Accuracy)\n",
    "test_mae = mean_absolute_error(y_test, y_test_pred)\n",
    "train_mae = mean_absolute_error(y_train, y_train_pred)\n",
    "\n",
    "print(\"\\nРезультаты на обучающей выборке:\")\n",
    "print(f\"MAE: {train_mae:.4f}\")\n",
    "\n",
    "print(\"\\nРезультаты на тестовой выборке:\")\n",
    "print(f\"MAE: {test_mae:.4f}\")\n",
    "\n",
    "# Анализ полярности\n",
    "print(\"\\nАнализ полярности:\")\n",
    "analyze_polarity(y_train, y_train_pred)\n",
    "analyze_polarity(y_test, y_test_pred)"
   ]
  },
  {
   "cell_type": "markdown",
   "id": "c83d9e2c-8251-48c1-bf6a-c7a93697ad88",
   "metadata": {},
   "source": [
    "### Bert"
   ]
  },
  {
   "cell_type": "markdown",
   "id": "3c8aeb24-d455-4a8f-b7d6-4ff95c3006ec",
   "metadata": {},
   "source": [
    "#### Обучение"
   ]
  },
  {
   "cell_type": "code",
   "execution_count": 87,
   "id": "6fd40b58-fa63-4210-9139-9d65e9d3bc6c",
   "metadata": {},
   "outputs": [
    {
     "name": "stdout",
     "output_type": "stream",
     "text": [
      "Используется устройство: cuda\n"
     ]
    },
    {
     "name": "stderr",
     "output_type": "stream",
     "text": [
      "Some weights of BertForSequenceClassification were not initialized from the model checkpoint at bert-base-uncased and are newly initialized: ['classifier.bias', 'classifier.weight']\n",
      "You should probably TRAIN this model on a down-stream task to be able to use it for predictions and inference.\n"
     ]
    },
    {
     "name": "stdout",
     "output_type": "stream",
     "text": [
      "Память GPU до обучения: 418.75 MB\n"
     ]
    },
    {
     "name": "stderr",
     "output_type": "stream",
     "text": [
      "C:\\Users\\egor\\anaconda\\Lib\\site-packages\\transformers\\training_args.py:1568: FutureWarning: `evaluation_strategy` is deprecated and will be removed in version 4.46 of 🤗 Transformers. Use `eval_strategy` instead\n",
      "  warnings.warn(\n",
      "C:\\Users\\egor\\AppData\\Local\\Temp\\ipykernel_15268\\320214532.py:66: FutureWarning: `tokenizer` is deprecated and will be removed in version 5.0.0 for `Trainer.__init__`. Use `processing_class` instead.\n",
      "  trainer = Trainer(\n"
     ]
    }
   ],
   "source": [
    "assert torch.cuda.is_available(), \"GPU недоступен!\"\n",
    "device = torch.device(\"cuda\" if torch.cuda.is_available() else \"cpu\")\n",
    "print(f\"Используется устройство: {device}\")\n",
    "\n",
    "\n",
    "# Преобразование рейтингов в метки 0-7\n",
    "rating_to_label = {1: 0, 2: 1, 3: 2, 4: 3, 7: 4, 8: 5, 9: 6, 10: 7}\n",
    "df['label'] = df['target'].map(rating_to_label).astype(int)\n",
    "\n",
    "# Инициализация модели\n",
    "model_name = \"bert-base-uncased\"\n",
    "tokenizer = BertTokenizer.from_pretrained(model_name)\n",
    "model = BertForSequenceClassification.from_pretrained(model_name, num_labels=8).to(device)\n",
    "\n",
    "train_data, val_data = train_test_split(df, test_size=0.1, random_state=42)\n",
    "\n",
    "class TextDataset(Dataset):\n",
    "    def __init__(self, texts, labels, tokenizer, max_length=512):\n",
    "        self.texts = texts\n",
    "        self.labels = labels\n",
    "        self.tokenizer = tokenizer\n",
    "        self.max_length = max_length\n",
    "\n",
    "    def __len__(self):\n",
    "        return len(self.texts)\n",
    "\n",
    "    def __getitem__(self, idx):\n",
    "        encoding = self.tokenizer(\n",
    "            self.texts[idx],\n",
    "            padding='max_length',\n",
    "            truncation=True,\n",
    "            max_length=self.max_length,\n",
    "            return_tensors='pt'\n",
    "        )\n",
    "        return {\n",
    "            'input_ids': encoding['input_ids'].squeeze(0).to(device),\n",
    "            'attention_mask': encoding['attention_mask'].squeeze(0).to(device),\n",
    "            'label': torch.tensor(self.labels[idx], dtype=torch.long).to(device)\n",
    "        }\n",
    "\n",
    "# Создание датасетов\n",
    "train_dataset = TextDataset(train_data['text'].tolist(), train_data['label'].tolist(), tokenizer)\n",
    "val_dataset = TextDataset(val_data['text'].tolist(), val_data['label'].tolist(), tokenizer)\n",
    "\n",
    "# Конфигурация обучения \n",
    "training_args = TrainingArguments(\n",
    "    output_dir='./results',\n",
    "    evaluation_strategy=\"epoch\",  \n",
    "    save_strategy=\"epoch\",        \n",
    "    load_best_model_at_end=True,  \n",
    "    learning_rate=2e-5,\n",
    "    per_device_train_batch_size=16,\n",
    "    per_device_eval_batch_size=32,\n",
    "    num_train_epochs=3,\n",
    "    weight_decay=0.01,\n",
    "    logging_dir='./logs',\n",
    "    logging_steps=10,\n",
    "    fp16=True,                    \n",
    "    metric_for_best_model=\"eval_loss\",  \n",
    "    greater_is_better=False,       \n",
    ")\n",
    "\n",
    "print(f\"Память GPU до обучения: {torch.cuda.memory_allocated() / 1024**2:.2f} MB\")\n",
    "\n",
    "\n",
    "trainer = Trainer(\n",
    "    model=model,\n",
    "    args=training_args,\n",
    "    train_dataset=train_dataset,\n",
    "    eval_dataset=val_dataset,\n",
    "    tokenizer=tokenizer,\n",
    ")\n"
   ]
  },
  {
   "cell_type": "code",
   "execution_count": 15,
   "id": "3496fcf7-3af2-4d0f-8422-29202a0bfda4",
   "metadata": {},
   "outputs": [
    {
     "data": {
      "text/html": [
       "\n",
       "    <div>\n",
       "      \n",
       "      <progress value='8439' max='8439' style='width:300px; height:20px; vertical-align: middle;'></progress>\n",
       "      [8439/8439 50:40, Epoch 3/3]\n",
       "    </div>\n",
       "    <table border=\"1\" class=\"dataframe\">\n",
       "  <thead>\n",
       " <tr style=\"text-align: left;\">\n",
       "      <th>Epoch</th>\n",
       "      <th>Training Loss</th>\n",
       "      <th>Validation Loss</th>\n",
       "    </tr>\n",
       "  </thead>\n",
       "  <tbody>\n",
       "    <tr>\n",
       "      <td>1</td>\n",
       "      <td>1.193700</td>\n",
       "      <td>1.177016</td>\n",
       "    </tr>\n",
       "    <tr>\n",
       "      <td>2</td>\n",
       "      <td>1.112600</td>\n",
       "      <td>1.161383</td>\n",
       "    </tr>\n",
       "    <tr>\n",
       "      <td>3</td>\n",
       "      <td>1.154300</td>\n",
       "      <td>1.213938</td>\n",
       "    </tr>\n",
       "  </tbody>\n",
       "</table><p>"
      ],
      "text/plain": [
       "<IPython.core.display.HTML object>"
      ]
     },
     "metadata": {},
     "output_type": "display_data"
    },
    {
     "data": {
      "text/plain": [
       "('./fine_tuned_bert_ratings_gpu\\\\tokenizer_config.json',\n",
       " './fine_tuned_bert_ratings_gpu\\\\special_tokens_map.json',\n",
       " './fine_tuned_bert_ratings_gpu\\\\vocab.txt',\n",
       " './fine_tuned_bert_ratings_gpu\\\\added_tokens.json')"
      ]
     },
     "execution_count": 15,
     "metadata": {},
     "output_type": "execute_result"
    }
   ],
   "source": [
    "trainer.train()\n",
    "\n",
    "# Сохранение модели\n",
    "model.save_pretrained(\"./fine_tuned_bert_ratings_gpu\")\n",
    "tokenizer.save_pretrained(\"./fine_tuned_bert_ratings_gpu\")"
   ]
  },
  {
   "cell_type": "markdown",
   "id": "44d04ee4-e034-4de2-90bf-a4b02458b125",
   "metadata": {},
   "source": [
    "#### Проверка на валидационной выборке"
   ]
  },
  {
   "cell_type": "code",
   "execution_count": 96,
   "id": "1fd024bc-e636-48a1-9cc9-b9b992b2dff6",
   "metadata": {},
   "outputs": [
    {
     "name": "stdout",
     "output_type": "stream",
     "text": [
      "\n",
      "Результаты на валидационной выборке:\n",
      "MAE: 0.5525\n"
     ]
    }
   ],
   "source": [
    "# Преобразование рейтингов в метки и обратно\n",
    "rating_to_label = {1: 0, 2: 1, 3: 2, 4: 3, 7: 4, 8: 5, 9: 6, 10: 7}\n",
    "label_to_rating = {idx: rating for rating, idx in rating_to_label.items()}\n",
    "\n",
    "# Загрузка модели и токенизатора\n",
    "model_path = \"./fine_tuned_bert_ratings_gpu\"\n",
    "model = BertForSequenceClassification.from_pretrained(model_path, num_labels=8)\n",
    "tokenizer = BertTokenizer.from_pretrained(model_path)\n",
    "\n",
    "# Перемещение модели на GPU\n",
    "model.to(device)\n",
    "model.eval()\n",
    "\n",
    "class TextDataset(torch.utils.data.Dataset):\n",
    "    def __init__(self, texts, tokenizer, max_length=512):\n",
    "        self.texts = texts\n",
    "        self.tokenizer = tokenizer\n",
    "        self.max_length = max_length\n",
    "\n",
    "    def __len__(self):\n",
    "        return len(self.texts)\n",
    "\n",
    "    def __getitem__(self, idx):\n",
    "        encoding = self.tokenizer(\n",
    "            self.texts[idx],\n",
    "            padding='max_length',\n",
    "            truncation=True,\n",
    "            max_length=self.max_length,\n",
    "            return_tensors='pt'\n",
    "        )\n",
    "        return {\n",
    "            'input_ids': encoding['input_ids'].squeeze(0),\n",
    "            'attention_mask': encoding['attention_mask'].squeeze(0)\n",
    "        }\n",
    "\n",
    "val_texts = val_data['text'].tolist()\n",
    "val_labels = val_data['target'].tolist()\n",
    "\n",
    "val_dataset = TextDataset(val_texts, tokenizer)\n",
    "val_dataloader = DataLoader(val_dataset, batch_size=16, shuffle=False)\n",
    "\n",
    "all_predictions = []\n",
    "all_true_labels = []\n",
    "\n",
    "with torch.no_grad():\n",
    "    for batch in val_dataloader:\n",
    "        inputs = {key: batch[key].to(device) for key in batch}\n",
    "        outputs = model(**inputs)\n",
    "        logits = outputs.logits\n",
    "        predicted_labels = torch.argmax(logits, dim=1)\n",
    "\n",
    "        valid_predictions = [label_to_rating[pred.item()] for pred in predicted_labels]\n",
    "        all_predictions.extend(valid_predictions)\n",
    "\n",
    "# Сохранение истинных рейтингов\n",
    "all_true_labels = val_labels\n",
    "\n",
    "# Оценка качества модели\n",
    "mae = mean_absolute_error(all_true_labels, all_predictions)\n",
    "\n",
    "print(f'\\nРезультаты на валидационной выборке:')\n",
    "print(f'MAE: {mae:.4f}')"
   ]
  },
  {
   "cell_type": "code",
   "execution_count": 98,
   "id": "837f0ff0-303c-4987-a6e0-5272820b4f93",
   "metadata": {
    "scrolled": true
   },
   "outputs": [
    {
     "name": "stdout",
     "output_type": "stream",
     "text": [
      "\n",
      "Анализ полярности:\n",
      "\n",
      "Точность по полярности: 0.9811\n",
      "Точность для позитивных отзывов: 0.9827\n",
      "Точность для негативных отзывов: 0.9793\n"
     ]
    }
   ],
   "source": [
    "print(\"\\nАнализ полярности:\")\n",
    "analyze_polarity(all_true_labels, all_predictions)"
   ]
  }
 ],
 "metadata": {
  "kernelspec": {
   "display_name": "Python 3 (ipykernel)",
   "language": "python",
   "name": "python3"
  },
  "language_info": {
   "codemirror_mode": {
    "name": "ipython",
    "version": 3
   },
   "file_extension": ".py",
   "mimetype": "text/x-python",
   "name": "python",
   "nbconvert_exporter": "python",
   "pygments_lexer": "ipython3",
   "version": "3.12.7"
  }
 },
 "nbformat": 4,
 "nbformat_minor": 5
}
