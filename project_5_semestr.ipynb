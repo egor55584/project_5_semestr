{
 "cells": [
  {
   "cell_type": "code",
   "execution_count": 5,
   "id": "adcc7611-75a1-4db4-8511-b25d7167556a",
   "metadata": {},
   "outputs": [],
   "source": [
    "import pandas as pd\n",
    "import numpy as np\n",
    "import matplotlib.pyplot as plt\n",
    "import tarfile\n",
    "import os\n",
    "from sklearn.model_selection import train_test_split\n",
    "from sklearn.feature_extraction.text import TfidfVectorizer\n",
    "from sklearn.svm import SVC\n",
    "from vaderSentiment.vaderSentiment import SentimentIntensityAnalyzer\n",
    "from sklearn.metrics import classification_report\n",
    "import seaborn as sns\n",
    "import re\n",
    "from bs4 import BeautifulSoup\n",
    "from sklearn.feature_extraction.text import ENGLISH_STOP_WORDS\n",
    "import nltk\n",
    "from nltk.corpus import stopwords\n",
    "from nltk.tokenize import word_tokenize\n",
    "from nltk.stem import WordNetLemmatizer\n",
    "from scipy.sparse import csr_matrix\n",
    "from catboost import CatBoostClassifier\n",
    "from sklearn.metrics import accuracy_score, f1_score\n",
    "from textblob import TextBlob\n",
    "from transformers import BertTokenizer, BertForSequenceClassification\n",
    "from transformers import Trainer, TrainingArguments\n",
    "import torch\n",
    "from torch.utils.data import Dataset \n",
    "from torch.utils.data import DataLoader\n",
    "import gensim\n",
    "from gensim.models import Word2Vec"
   ]
  },
  {
   "cell_type": "markdown",
   "id": "a9e1f011-357f-4c3b-8d79-3b368a2b2009",
   "metadata": {},
   "source": [
    "### Загрузка и анализ данных, первичная предобработка"
   ]
  },
  {
   "cell_type": "code",
   "execution_count": 5,
   "id": "929ef81e-a5ad-4abb-8a10-f3c29942d8af",
   "metadata": {},
   "outputs": [
    {
     "name": "stdout",
     "output_type": "stream",
     "text": [
      "                                                text  target\n",
      "0  I went and saw this movie last night after bei...       1\n",
      "1  Actor turned director Bill Paxton follows up h...       1\n",
      "2  As a recreational golfer with some knowledge o...       1\n",
      "3  I saw this film in a sneak preview, and it is ...       1\n",
      "4  Bill Paxton has taken the true story of the 19...       1\n"
     ]
    }
   ],
   "source": [
    "part_1_dir = 'part_1'\n",
    "part_2_dir = 'part_2'\n",
    "\n",
    "texts = []\n",
    "targets = []\n",
    "\n",
    "\n",
    "def load_reviews_from_folder(folder, label):\n",
    "    if os.path.exists(folder):  \n",
    "        for filename in os.listdir(folder):\n",
    "            if filename.endswith('.txt'): \n",
    "                file_path = os.path.join(folder, filename)  \n",
    "                with open(file_path, 'r', encoding='utf-8') as file:\n",
    "                    texts.append(file.read())\n",
    "                    targets.append(label)\n",
    "    else:\n",
    "        print(f\"Папка не найдена: {folder}\")\n",
    "\n",
    "\n",
    "load_reviews_from_folder(part_1_dir + '/pos', 1)\n",
    "load_reviews_from_folder(part_1_dir + '/neg', 0)\n",
    "\n",
    "load_reviews_from_folder(part_2_dir + '/pos', 1)\n",
    "load_reviews_from_folder(part_2_dir + '/neg', 0)\n",
    "\n",
    "df = pd.DataFrame({\n",
    "    'text': texts,\n",
    "    'target': targets\n",
    "})\n",
    "\n",
    "print(df.head())"
   ]
  },
  {
   "cell_type": "code",
   "execution_count": 3,
   "id": "803c3c81-87e3-4705-bd04-7a55d6173e03",
   "metadata": {},
   "outputs": [],
   "source": [
    "#df.to_csv('Review_data.csv')"
   ]
  },
  {
   "cell_type": "code",
   "execution_count": 6,
   "id": "60012548-58aa-4bff-9a2a-2dc00338feaa",
   "metadata": {},
   "outputs": [],
   "source": [
    "df = pd.read_csv('Review_data.csv')[['text','target']]"
   ]
  },
  {
   "cell_type": "code",
   "execution_count": null,
   "id": "897f6a55-f911-44c4-9d28-28f1555cfc17",
   "metadata": {},
   "outputs": [],
   "source": []
  },
  {
   "cell_type": "code",
   "execution_count": 10,
   "id": "a051d839-5990-4b66-9461-06569d3c4c35",
   "metadata": {},
   "outputs": [
    {
     "name": "stdout",
     "output_type": "stream",
     "text": [
      "Пропущенные значения:\n",
      "text      0\n",
      "target    0\n",
      "dtype: int64\n",
      "Количество дублирующихся строк: 418\n"
     ]
    }
   ],
   "source": [
    "print(f\"Пропущенные значения:\\n{df.isnull().sum()}\")\n",
    "\n",
    "duplicates = df.duplicated().sum()\n",
    "print(f\"Количество дублирующихся строк: {duplicates}\")"
   ]
  },
  {
   "cell_type": "code",
   "execution_count": 12,
   "id": "cb8137dd-a603-481e-a74d-302c853f5392",
   "metadata": {},
   "outputs": [
    {
     "name": "stdout",
     "output_type": "stream",
     "text": [
      "Количество строк после удаления дубликатов: 49582\n"
     ]
    }
   ],
   "source": [
    "df = df.drop_duplicates()\n",
    "\n",
    "print(f\"Количество строк после удаления дубликатов: {len(df)}\")"
   ]
  },
  {
   "cell_type": "code",
   "execution_count": 14,
   "id": "b7e42ec9-51ca-4910-aea0-0f919522d84b",
   "metadata": {},
   "outputs": [
    {
     "name": "stdout",
     "output_type": "stream",
     "text": [
      "\n",
      "Распределение классов:\n",
      "target\n",
      "1    24884\n",
      "0    24698\n",
      "Name: count, dtype: int64\n"
     ]
    }
   ],
   "source": [
    "# Проверка распределения классов\n",
    "class_distribution = df['target'].value_counts()\n",
    "print(f\"\\nРаспределение классов:\\n{class_distribution}\")"
   ]
  },
  {
   "cell_type": "code",
   "execution_count": 16,
   "id": "7cf7b529-e6a4-4268-a785-0a8f47e17ee0",
   "metadata": {},
   "outputs": [
    {
     "name": "stdout",
     "output_type": "stream",
     "text": [
      "count    49582.000000\n",
      "mean       231.350167\n",
      "std        171.542020\n",
      "min          4.000000\n",
      "25%        126.000000\n",
      "50%        173.000000\n",
      "75%        281.000000\n",
      "max       2470.000000\n",
      "Name: word_count, dtype: float64\n"
     ]
    }
   ],
   "source": [
    "df['word_count'] = df['text'].apply(lambda x: len(str(x).split()))\n",
    "\n",
    "print(df['word_count'].describe())"
   ]
  },
  {
   "cell_type": "code",
   "execution_count": 18,
   "id": "6aeb954b-2b8f-4fa4-9072-4ee7945abfeb",
   "metadata": {},
   "outputs": [
    {
     "data": {
      "image/png": "[encoded data removed]",
      "text/plain": [
       "<Figure size 640x480 with 1 Axes>"
      ]
     },
     "metadata": {},
     "output_type": "display_data"
    }
   ],
   "source": [
    "sns.histplot(df['text'].apply(lambda x: len(str(x).split())), kde=True, color='blue')\n",
    "plt.title('Распределение количества слов в тексте')\n",
    "plt.xlabel('Количество слов')\n",
    "plt.ylabel('Количество отзывов')\n",
    "plt.show()"
   ]
  },
  {
   "cell_type": "code",
   "execution_count": 20,
   "id": "8a505f64-09cf-4acf-8121-5015e840c733",
   "metadata": {},
   "outputs": [
    {
     "name": "stdout",
     "output_type": "stream",
     "text": [
      "99%-ный перцентиль: 908.0\n"
     ]
    }
   ],
   "source": [
    "percentile_99 = df['word_count'].quantile(0.99)\n",
    "print(f\"99%-ный перцентиль: {percentile_99}\")"
   ]
  },
  {
   "cell_type": "code",
   "execution_count": 22,
   "id": "cfe23a2d-04ce-4bd1-97a5-e98a94ec4a28",
   "metadata": {},
   "outputs": [
    {
     "name": "stdout",
     "output_type": "stream",
     "text": [
      "Количество строк после обрезки: 49090\n"
     ]
    }
   ],
   "source": [
    "df = df[df['word_count'] <= percentile_99]\n",
    "\n",
    "print(f\"Количество строк после обрезки: {len(df)}\")"
   ]
  },
  {
   "cell_type": "code",
   "execution_count": 24,
   "id": "ee3eabb7-2802-408f-af46-50bf36915993",
   "metadata": {},
   "outputs": [
    {
     "name": "stdout",
     "output_type": "stream",
     "text": [
      "\n",
      "Пример положительного отзыва:\n",
      "I went and saw this movie last night after being coaxed to by a few friends of mine. I'll admit that I was reluctant to see it because from what I knew of Ashton Kutcher he was only able to do comedy. I was wrong. Kutcher played the character of Jake Fischer very well, and Kevin Costner played Ben Randall with such professionalism. The sign of a good movie is that it can toy with our emotions. This one did exactly that. The entire theater (which was sold out) was overcome by laughter during the first half of the movie, and were moved to tears during the second half. While exiting the theater I not only saw many women in tears, but many full grown men as well, trying desperately not to let anyone see them crying. This movie was great, and I suggest that you go see it before you judge.\n",
      "\n",
      "Пример отрицательного отзыва:\n",
      "Once again Mr. Costner has dragged out a movie for far longer than necessary. Aside from the terrific sea rescue sequences, of which there are very few I just did not care about any of the characters. Most of us have ghosts in the closet, and Costner's character are realized early on, and then forgotten until much later, by which time I did not care. The character we should really care about is a very cocky, overconfident Ashton Kutcher. The problem is he comes off as kid who thinks he's better than anyone else around him and shows no signs of a cluttered closet. His only obstacle appears to be winning over Costner. Finally when we are well past the half way point of this stinker, Costner tells us all about Kutcher's ghosts. We are told why Kutcher is driven to be the best with no prior inkling or foreshadowing. No magic here, it was all I could do to keep from turning it off an hour in.\n"
     ]
    }
   ],
   "source": [
    "# Пример положительных и отрицательных отзывов\n",
    "positive_sample = df[df['target'] == 1]['text'].iloc[0]\n",
    "negative_sample = df[df['target'] == 0]['text'].iloc[0]\n",
    "\n",
    "print(\"\\nПример положительного отзыва:\")\n",
    "print(positive_sample)\n",
    "\n",
    "print(\"\\nПример отрицательного отзыва:\")\n",
    "\n",
    "print(negative_sample)"
   ]
  },
  {
   "cell_type": "markdown",
   "id": "b19d2472-c347-42e0-83ed-6d87f68fc1cd",
   "metadata": {},
   "source": [
    "### Пробуем разные сентиментальные готовые словари"
   ]
  },
  {
   "cell_type": "code",
   "execution_count": 23,
   "id": "9e3240f8-40d2-42ce-989e-e03c2a1c7765",
   "metadata": {},
   "outputs": [],
   "source": [
    "df_dict = df.copy()"
   ]
  },
  {
   "cell_type": "code",
   "execution_count": 25,
   "id": "a740bbd3-af08-4792-807c-26211d60e241",
   "metadata": {},
   "outputs": [
    {
     "name": "stdout",
     "output_type": "stream",
     "text": [
      "Размер обучающей выборки: 39604\n",
      "Размер тестовой выборки: 9902\n"
     ]
    }
   ],
   "source": [
    "X_train_dict, X_test_dict, y_train_dict, y_test_dict = train_test_split(df_dict['text'], df_dict['target'], test_size=0.2, random_state=42, stratify=df_dict['target'])\n",
    "print(f\"Размер обучающей выборки: {len(X_train_dict)}\")\n",
    "print(f\"Размер тестовой выборки: {len(X_test_dict)}\")"
   ]
  },
  {
   "cell_type": "code",
   "execution_count": 31,
   "id": "d1ef5f9c-c3db-429a-b233-aacd635c6f82",
   "metadata": {},
   "outputs": [
    {
     "name": "stdout",
     "output_type": "stream",
     "text": [
      "Точность на обучающей выборке: 0.6956\n",
      "Точность на тестовой выборке: 0.6967\n"
     ]
    }
   ],
   "source": [
    "analyzer = SentimentIntensityAnalyzer()\n",
    "\n",
    "def analyze_sentiment(text):\n",
    "    scores = analyzer.polarity_scores(text)\n",
    "    return 1 if scores['compound'] > 0 else 0  \n",
    "\n",
    "y_train_pred = X_train_dict.apply(analyze_sentiment)\n",
    "y_test_pred = X_test_dict.apply(analyze_sentiment)\n",
    "\n",
    "train_accuracy = accuracy_score(y_train_dict, y_train_pred)\n",
    "test_accuracy = accuracy_score(y_test_dict, y_test_pred)\n",
    "\n",
    "print(f\"Точность на обучающей выборке: {train_accuracy:.4f}\")\n",
    "print(f\"Точность на тестовой выборке: {test_accuracy:.4f}\")"
   ]
  },
  {
   "cell_type": "code",
   "execution_count": 29,
   "id": "fff3d27f-81f8-40e2-8993-0b2683eb9aba",
   "metadata": {},
   "outputs": [
    {
     "name": "stdout",
     "output_type": "stream",
     "text": [
      "Точность на обучающей выборке: 0.6884\n",
      "Точность на тестовой выборке: 0.6902\n"
     ]
    }
   ],
   "source": [
    "def get_sentiment(text):\n",
    "    blob = TextBlob(text)\n",
    "    return 1 if blob.sentiment.polarity > 0 else 0\n",
    "\n",
    "# Применяем функцию к обучающим и тестовым данным\n",
    "y_train_pred = [get_sentiment(text) for text in X_train_dict]\n",
    "y_test_pred = [get_sentiment(text) for text in X_test_dict]\n",
    "\n",
    "# Оценка точности на обучающей и тестовой выборке\n",
    "train_accuracy = accuracy_score(y_train_dict, y_train_pred)\n",
    "test_accuracy = accuracy_score(y_test_dict, y_test_pred)\n",
    "\n",
    "print(f\"Точность на обучающей выборке: {train_accuracy:.4f}\")\n",
    "print(f\"Точность на тестовой выборке: {test_accuracy:.4f}\")"
   ]
  },
  {
   "cell_type": "markdown",
   "id": "b94b5855-6431-431f-a25d-777a9b15bd8b",
   "metadata": {},
   "source": [
    "### Подготовка данных и обучение модели машинного обучения"
   ]
  },
  {
   "cell_type": "code",
   "execution_count": 26,
   "id": "8b5f8091-968b-4618-8891-de3783678cca",
   "metadata": {},
   "outputs": [],
   "source": [
    "df_machine = df.copy()"
   ]
  },
  {
   "cell_type": "code",
   "execution_count": 28,
   "id": "a5926883-dd9b-4170-be86-97ade69a158c",
   "metadata": {},
   "outputs": [],
   "source": [
    "# Убираем все неалфавитные символы \n",
    "df_machine['text'] = df_machine['text'].apply(lambda x: re.sub(r'[^a-zA-Z\\s]', '', x))"
   ]
  },
  {
   "cell_type": "code",
   "execution_count": 29,
   "id": "7b183444-513d-41cf-8a37-a054a1b01aed",
   "metadata": {},
   "outputs": [],
   "source": [
    "# Лишние пробелы\n",
    "df_machine['cleaned_text'] = df_machine['text'].apply(lambda x: re.sub(r'\\s+', ' ', x).strip())"
   ]
  },
  {
   "cell_type": "code",
   "execution_count": 41,
   "id": "ea86e9b6-aaf2-4619-ad67-aaa8f7065fed",
   "metadata": {},
   "outputs": [],
   "source": [
    "# Лемматизация\n",
    "\n",
    "# Загрузка списка стоп-слов\n",
    "stop_words = set(stopwords.words('english'))\n",
    "\n",
    "# Инициализация лемматизатора\n",
    "lemmatizer = WordNetLemmatizer()\n",
    "\n",
    "# Функция для предобработки текста \n",
    "def preprocess_text(text):\n",
    "    # Токенизация\n",
    "    words = word_tokenize(text.lower())  # Приведение к нижнему регистру\n",
    "    # Лемматизация и удаление стоп-слов\n",
    "    words = [lemmatizer.lemmatize(word) for word in words if word.isalnum() and word not in stop_words]\n",
    "    return ' '.join(words)\n",
    "\n",
    "# Применим функцию к столбцу текста\n",
    "df_machine['cleaned_text'] = df_machine['text'].apply(preprocess_text)"
   ]
  },
  {
   "cell_type": "code",
   "execution_count": 43,
   "id": "7b563b7f-17d6-457e-b06b-f95b70cfa823",
   "metadata": {},
   "outputs": [
    {
     "data": {
      "text/plain": [
       "0    went saw movie last night coaxed friend mine i...\n",
       "1    actor turned director bill paxton follows prom...\n",
       "2    recreational golfer knowledge sport history pl...\n",
       "3    saw film sneak preview delightful cinematograp...\n",
       "4    bill paxton taken true story u golf open made ...\n",
       "Name: cleaned_text, dtype: object"
      ]
     },
     "execution_count": 43,
     "metadata": {},
     "output_type": "execute_result"
    }
   ],
   "source": [
    "df_machine['cleaned_text'].head()"
   ]
  },
  {
   "cell_type": "code",
   "execution_count": 46,
   "id": "8101cf0b-db84-47ed-a95a-f7459cd97b7c",
   "metadata": {},
   "outputs": [
    {
     "name": "stdout",
     "output_type": "stream",
     "text": [
      "Размер обучающей выборки: 39604\n",
      "Размер тестовой выборки: 9902\n"
     ]
    }
   ],
   "source": [
    "X_train, X_test, y_train, y_test = train_test_split(df_machine['cleaned_text'], df_machine['target'], test_size=0.2, random_state=42, stratify=df_machine['target'])\n",
    "print(f\"Размер обучающей выборки: {len(X_train)}\")\n",
    "print(f\"Размер тестовой выборки: {len(X_test)}\")"
   ]
  },
  {
   "cell_type": "code",
   "execution_count": null,
   "id": "a13c05cb-5b85-4024-89e7-5e0b7a16dfed",
   "metadata": {},
   "outputs": [],
   "source": []
  },
  {
   "cell_type": "markdown",
   "id": "8e0baade-9450-4868-a7f5-779d990c9e02",
   "metadata": {},
   "source": [
    "### TFIDF и Catboost"
   ]
  },
  {
   "cell_type": "code",
   "execution_count": 96,
   "id": "46148019-37e8-4722-9dca-00499a999b44",
   "metadata": {},
   "outputs": [
    {
     "name": "stdout",
     "output_type": "stream",
     "text": [
      "Размер матрицы: (39272, 32244)\n"
     ]
    }
   ],
   "source": [
    "vectorizer = TfidfVectorizer(min_df=5, max_df=0.9)\n",
    "\n",
    "X_train_tfidf = vectorizer.fit_transform(X_train)\n",
    "X_test_tfidf = vectorizer.transform(X_test)\n",
    "\n",
    "print(f\"Размер матрицы: {X_train_tfidf.shape}\")"
   ]
  },
  {
   "cell_type": "code",
   "execution_count": 100,
   "id": "4953ad3c-18d3-4000-b03c-ae8c3a8d2832",
   "metadata": {},
   "outputs": [
    {
     "name": "stdout",
     "output_type": "stream",
     "text": [
      "0:\tlearn: 0.6809346\ttotal: 177ms\tremaining: 2m 21s\n",
      "200:\tlearn: 0.4285901\ttotal: 30.8s\tremaining: 1m 31s\n",
      "400:\tlearn: 0.3716128\ttotal: 1m\tremaining: 1m\n",
      "600:\tlearn: 0.3373877\ttotal: 1m 32s\tremaining: 30.7s\n",
      "799:\tlearn: 0.3131560\ttotal: 2m\tremaining: 0us\n",
      "Accuracy: 0.8644\n",
      "F1-Score: 0.8686\n"
     ]
    }
   ],
   "source": [
    "model = CatBoostClassifier(iterations=800, \n",
    "                           learning_rate=0.05, \n",
    "                           depth=4, \n",
    "                           verbose=200)\n",
    "\n",
    "model.fit(X_train_tfidf, y_train)\n",
    "\n",
    "y_pred = model.predict(X_test_tfidf)\n",
    "\n",
    "accuracy = accuracy_score(y_test, y_pred)\n",
    "f1 = f1_score(y_test, y_pred)\n",
    "\n",
    "print(f\"Accuracy: {accuracy:.4f}\")\n",
    "print(f\"F1-Score: {f1:.4f}\")"
   ]
  },
  {
   "cell_type": "code",
   "execution_count": 102,
   "id": "7e2ee263-f681-4825-983a-98b86451c258",
   "metadata": {},
   "outputs": [
    {
     "name": "stdout",
     "output_type": "stream",
     "text": [
      "Accuracy: 0.8825\n"
     ]
    }
   ],
   "source": [
    "y_pred = model.predict(X_train_tfidf)\n",
    "accuracy = accuracy_score(y_train, y_pred)\n",
    "print(f\"Accuracy: {accuracy:.4f}\")"
   ]
  },
  {
   "cell_type": "markdown",
   "id": "36f6622d-bc53-443b-b968-0a127ef5f89c",
   "metadata": {},
   "source": [
    "### Word2Vec и Catboost"
   ]
  },
  {
   "cell_type": "code",
   "execution_count": 128,
   "id": "02b1ed35-405b-4d6d-951d-075a91a44cff",
   "metadata": {},
   "outputs": [
    {
     "name": "stdout",
     "output_type": "stream",
     "text": [
      "(39272, 200)\n",
      "(9818, 200)\n"
     ]
    }
   ],
   "source": [
    "X_train_tokens = [text.split() for text in X_train] \n",
    "\n",
    "model_w2v = Word2Vec(sentences=X_train_tokens, vector_size=200, window=10, min_count=5, workers=4)\n",
    "\n",
    "def vectorize_text(text, model, vector_size=100):\n",
    "    words = text.split()\n",
    "    word_vectors = []\n",
    "    for word in words:\n",
    "        if word in model.wv:\n",
    "            word_vectors.append(model.wv[word])\n",
    "    \n",
    "    if word_vectors:\n",
    "        return np.mean(word_vectors, axis=0)\n",
    "    else:\n",
    "        return np.zeros(vector_size) \n",
    "\n",
    "X_train_w2v = np.array([vectorize_text(text, model_w2v) for text in X_train])\n",
    "\n",
    "X_test_w2v = np.array([vectorize_text(text, model_w2v) for text in X_test])\n",
    "\n",
    "print(X_train_w2v.shape)\n",
    "print(X_test_w2v.shape)"
   ]
  },
  {
   "cell_type": "code",
   "execution_count": 138,
   "id": "41f091bb-3be3-46f5-85bd-e150af6ae99b",
   "metadata": {},
   "outputs": [
    {
     "name": "stdout",
     "output_type": "stream",
     "text": [
      "0:\tlearn: 0.6713397\ttotal: 15.9ms\tremaining: 12.7s\n",
      "200:\tlearn: 0.3405466\ttotal: 2.83s\tremaining: 8.42s\n",
      "400:\tlearn: 0.3120760\ttotal: 5.6s\tremaining: 5.57s\n",
      "600:\tlearn: 0.2931892\ttotal: 8.32s\tremaining: 2.75s\n",
      "799:\tlearn: 0.2778155\ttotal: 11.1s\tremaining: 0us\n",
      "Accuracy: 0.8617\n",
      "F1-Score: 0.8633\n"
     ]
    }
   ],
   "source": [
    "model = CatBoostClassifier(iterations=800, \n",
    "                           learning_rate=0.05, \n",
    "                           depth=4, \n",
    "                           verbose=200)\n",
    "\n",
    "\n",
    "model.fit(X_train_w2v, y_train)\n",
    "\n",
    "y_pred = model.predict(X_test_w2v)\n",
    "\n",
    "accuracy = accuracy_score(y_test, y_pred)\n",
    "f1 = f1_score(y_test, y_pred)\n",
    "\n",
    "print(f\"Accuracy: {accuracy:.4f}\")\n",
    "print(f\"F1-Score: {f1:.4f}\")"
   ]
  },
  {
   "cell_type": "code",
   "execution_count": 139,
   "id": "2e98e00c-6d53-4767-9bbd-a969a3cc782b",
   "metadata": {},
   "outputs": [
    {
     "name": "stdout",
     "output_type": "stream",
     "text": [
      "Accuracy: 0.8866\n"
     ]
    }
   ],
   "source": [
    "y_pred = model.predict(X_train_w2v)\n",
    "accuracy = accuracy_score(y_train, y_pred)\n",
    "print(f\"Accuracy: {accuracy:.4f}\")"
   ]
  },
  {
   "cell_type": "markdown",
   "id": "c83d9e2c-8251-48c1-bf6a-c7a93697ad88",
   "metadata": {},
   "source": [
    "### Bert"
   ]
  },
  {
   "cell_type": "code",
   "execution_count": 32,
   "id": "69f9d60f-f6a3-48b0-9e87-d7788ff9c8a6",
   "metadata": {
    "scrolled": true
   },
   "outputs": [
    {
     "name": "stderr",
     "output_type": "stream",
     "text": [
      "Some weights of BertForSequenceClassification were not initialized from the model checkpoint at bert-base-uncased and are newly initialized: ['classifier.bias', 'classifier.weight']\n",
      "You should probably TRAIN this model on a down-stream task to be able to use it for predictions and inference.\n"
     ]
    }
   ],
   "source": [
    "model_name = \"bert-base-uncased\"  \n",
    "tokenizer = BertTokenizer.from_pretrained(model_name)\n",
    "model = BertForSequenceClassification.from_pretrained(model_name, num_labels=2)"
   ]
  },
  {
   "cell_type": "code",
   "execution_count": 34,
   "id": "e9152c89-870f-475c-ad80-b69bf1594a50",
   "metadata": {},
   "outputs": [],
   "source": [
    "train_data, val_data = train_test_split(df, test_size=0.1, random_state=42)"
   ]
  },
  {
   "cell_type": "code",
   "execution_count": 36,
   "id": "c117df4a-dd8e-4151-b179-a7378f8329cc",
   "metadata": {},
   "outputs": [],
   "source": [
    "from torch.utils.data import Dataset \n",
    "class TextDataset(Dataset):\n",
    "    def __init__(self, texts, labels, tokenizer, max_length=512):\n",
    "        self.texts = texts\n",
    "        self.labels = labels\n",
    "        self.tokenizer = tokenizer\n",
    "        self.max_length = max_length\n",
    "\n",
    "    def __len__(self):\n",
    "        return len(self.texts)\n",
    "\n",
    "    def __getitem__(self, idx):\n",
    "        encoding = self.tokenizer(\n",
    "            self.texts[idx], \n",
    "            padding='max_length', \n",
    "            truncation=True, \n",
    "            max_length=self.max_length, \n",
    "            return_tensors='pt'\n",
    "        )\n",
    "        item = {key: encoding[key].squeeze(0) for key in encoding}\n",
    "        item['label'] = torch.tensor(self.labels[idx], dtype=torch.long)\n",
    "        return item"
   ]
  },
  {
   "cell_type": "code",
   "execution_count": 38,
   "id": "1d3bdce2-1d96-4593-a525-400d342a111f",
   "metadata": {},
   "outputs": [],
   "source": [
    "train_dataset = TextDataset(train_data['text'].tolist(), train_data['target'].tolist(), tokenizer)\n",
    "val_dataset = TextDataset(val_data['text'].tolist(), val_data['target'].tolist(), tokenizer)\n",
    "\n",
    "training_args = TrainingArguments(\n",
    "    output_dir='./results',\n",
    "    eval_strategy=\"epoch\",  \n",
    "    save_strategy=\"epoch\", \n",
    "    learning_rate=2e-5,\n",
    "    per_device_train_batch_size=16,\n",
    "    per_device_eval_batch_size=64,\n",
    "    num_train_epochs=1,\n",
    "    weight_decay=0.01,\n",
    "    logging_dir='./logs',\n",
    "    logging_steps=10,\n",
    "    load_best_model_at_end=True,\n",
    ")\n",
    "\n",
    "trainer = Trainer(\n",
    "    model=model,\n",
    "    args=training_args,\n",
    "    train_dataset=train_dataset,\n",
    "    eval_dataset=val_dataset,\n",
    "    processing_class=tokenizer,\n",
    ")"
   ]
  },
  {
   "cell_type": "code",
   "execution_count": 40,
   "id": "3e2193f6-9664-4e46-b287-fbe56aca53e3",
   "metadata": {},
   "outputs": [
    {
     "data": {
      "text/html": [
       "\n",
       "    <div>\n",
       "      \n",
       "      <progress value='2762' max='2762' style='width:300px; height:20px; vertical-align: middle;'></progress>\n",
       "      [2762/2762 42:17, Epoch 1/1]\n",
       "    </div>\n",
       "    <table border=\"1\" class=\"dataframe\">\n",
       "  <thead>\n",
       " <tr style=\"text-align: left;\">\n",
       "      <th>Epoch</th>\n",
       "      <th>Training Loss</th>\n",
       "      <th>Validation Loss</th>\n",
       "    </tr>\n",
       "  </thead>\n",
       "  <tbody>\n",
       "    <tr>\n",
       "      <td>1</td>\n",
       "      <td>0.237300</td>\n",
       "      <td>0.188358</td>\n",
       "    </tr>\n",
       "  </tbody>\n",
       "</table><p>"
      ],
      "text/plain": [
       "<IPython.core.display.HTML object>"
      ]
     },
     "metadata": {},
     "output_type": "display_data"
    },
    {
     "data": {
      "text/plain": [
       "TrainOutput(global_step=2762, training_loss=0.21660777795884506, metrics={'train_runtime': 2538.2914, 'train_samples_per_second': 17.406, 'train_steps_per_second': 1.088, 'total_flos': 1.162450953686016e+16, 'train_loss': 0.21660777795884506, 'epoch': 1.0})"
      ]
     },
     "execution_count": 40,
     "metadata": {},
     "output_type": "execute_result"
    }
   ],
   "source": [
    "# Обучение модели\n",
    "trainer.train()"
   ]
  },
  {
   "cell_type": "code",
   "execution_count": 61,
   "id": "edbd87df-5dcf-436a-8e37-4e5f740d882b",
   "metadata": {},
   "outputs": [],
   "source": [
    "checkpoint_dir = './results/checkpoint-2762'\n",
    "\n",
    "model = BertForSequenceClassification.from_pretrained(checkpoint_dir)\n",
    "tokenizer = BertTokenizer.from_pretrained(checkpoint_dir)"
   ]
  },
  {
   "cell_type": "code",
   "execution_count": 63,
   "id": "c11b6773-4124-4eaa-b27d-4a571583c6d7",
   "metadata": {},
   "outputs": [
    {
     "name": "stdout",
     "output_type": "stream",
     "text": [
      "Accuracy: 0.9556\n"
     ]
    }
   ],
   "source": [
    "device = 'cuda'\n",
    "\n",
    "model.to(device)\n",
    "model.eval()\n",
    "\n",
    "all_predictions = []\n",
    "all_true_labels = []\n",
    "\n",
    "val_dataloader = DataLoader(val_dataset, batch_size=64, shuffle=False)\n",
    "\n",
    "\n",
    "with torch.no_grad(): \n",
    "    for batch in val_dataloader:\n",
    "        inputs = {key: batch[key].to(device) for key in batch if key != 'label'}  \n",
    "        labels = batch['label'].to(device) \n",
    "\n",
    "        outputs = model(**inputs, labels=labels)  \n",
    "        \n",
    "        logits = outputs.logits\n",
    "        predicted_labels = torch.argmax(logits, dim=1) \n",
    "        \n",
    "        all_predictions.extend(predicted_labels.cpu().numpy()) \n",
    "        all_true_labels.extend(labels.cpu().numpy())  \n",
    "\n",
    "accuracy = accuracy_score(all_true_labels, all_predictions)\n",
    "print(f'Accuracy: {accuracy:.4f}')"
   ]
  },
  {
   "cell_type": "code",
   "execution_count": 65,
   "id": "66a38212-46a1-498a-9076-f2f2537a793c",
   "metadata": {},
   "outputs": [
    {
     "name": "stdout",
     "output_type": "stream",
     "text": [
      "Accuracy: 0.9544\n"
     ]
    }
   ],
   "source": [
    "all_predictions = []\n",
    "all_true_labels = []\n",
    "\n",
    "train_dataloader = DataLoader(train_dataset, batch_size=64, shuffle=False)\n",
    "\n",
    "\n",
    "with torch.no_grad():  \n",
    "    for batch in train_dataloader:\n",
    "\n",
    "        inputs = {key: batch[key].to(device) for key in batch if key != 'label'} \n",
    "        labels = batch['label'].to(device) \n",
    "        \n",
    "\n",
    "        outputs = model(**inputs, labels=labels)\n",
    "        \n",
    "        logits = outputs.logits\n",
    "        predicted_labels = torch.argmax(logits, dim=1)  \n",
    "        \n",
    "        all_predictions.extend(predicted_labels.cpu().numpy())\n",
    "        all_true_labels.extend(labels.cpu().numpy()) \n",
    "\n",
    "accuracy = accuracy_score(all_true_labels, all_predictions)\n",
    "print(f'Accuracy: {accuracy:.4f}')"
   ]
  },
  {
   "cell_type": "code",
   "execution_count": null,
   "id": "937e3276-7c06-4e3c-a5af-d66168afe7f0",
   "metadata": {},
   "outputs": [],
   "source": []
  }
 ],
 "metadata": {
  "kernelspec": {
   "display_name": "Python 3 (ipykernel)",
   "language": "python",
   "name": "python3"
  },
  "language_info": {
   "codemirror_mode": {
    "name": "ipython",
    "version": 3
   },
   "file_extension": ".py",
   "mimetype": "text/x-python",
   "name": "python",
   "nbconvert_exporter": "python",
   "pygments_lexer": "ipython3",
   "version": "3.12.7"
  }
 },
 "nbformat": 4,
 "nbformat_minor": 5
}
